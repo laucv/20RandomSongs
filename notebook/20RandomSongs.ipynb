{
 "cells": [
  {
   "cell_type": "code",
   "execution_count": 1,
   "metadata": {},
   "outputs": [],
   "source": [
    "import requests as req\n",
    "import json\n",
    "import random\n",
    "import math"
   ]
  },
  {
   "cell_type": "code",
   "execution_count": 3,
   "metadata": {},
   "outputs": [],
   "source": [
    "authToken = '' # Spotify Web API Token Authorization\n",
    "res = req.get('https://api.spotify.com/v1/playlists/6WIKGaensujIIWKEPBHvl1/tracks', headers={'Authorization': authToken})\n",
    "playlist = res.json()['items']\n",
    "songs=[]\n",
    "for element in playlist:\n",
    "    song = element['track']\n",
    "    if song is None:\n",
    "        print(\"\")\n",
    "    else:\n",
    "        songs.append(song['name'] + \", \" + song['artists'][0]['name'])"
   ]
  },
  {
   "cell_type": "code",
   "execution_count": 4,
   "metadata": {
    "scrolled": true
   },
   "outputs": [
    {
     "name": "stdout",
     "output_type": "stream",
     "text": [
      "I Did Something Bad, Taylor Swift\n",
      "Better Than That, MARINA\n",
      "SUGA's Interlude, Halsey\n",
      "Miss Americana & The Heartbreak Prince, Taylor Swift\n",
      "clementine, Halsey\n",
      "London Boy, Taylor Swift\n",
      "Tell Em, Sabrina Carpenter\n",
      "Dress, Taylor Swift\n",
      "Be Kind (with Halsey), Marshmello\n",
      "Solitaire, MARINA\n",
      "London Boy, Taylor Swift\n",
      "I HATE EVERYBODY, Halsey\n",
      "Miss Americana & The Heartbreak Prince, Taylor Swift\n",
      "hoax, Taylor Swift\n",
      "Blue, MARINA\n",
      "I Did Something Bad, Taylor Swift\n",
      "Blue, MARINA\n",
      "Ashley, Halsey\n",
      "ME! (feat. Brendon Urie of Panic! At The Disco), Taylor Swift\n",
      "It Happened Quiet, AURORA\n"
     ]
    }
   ],
   "source": [
    "for x in range(20):\n",
    "    print (songs[((random.randint(1,len(songs)) * random.randint(1,10)) % len(songs))])"
   ]
  },
  {
   "cell_type": "code",
   "execution_count": 6,
   "metadata": {},
   "outputs": [],
   "source": [
    "def getRandomSearch():\n",
    "    characters = \"0123456789abcdefghijklmnopqrstuvwxyz\"\n",
    "    randomCharacter = characters[math.floor(random.randint(1, 101) % len(characters))]\n",
    "    randomSearch = ''\n",
    "    if random.randint(1, 101) % 2 == 0:\n",
    "        randomSearch = randomCharacter + '%25'\n",
    "    else:\n",
    "        randomSearch = '%25' + randomCharacter + '%25'\n",
    "\n",
    "    return randomSearch"
   ]
  },
  {
   "cell_type": "code",
   "execution_count": 7,
   "metadata": {},
   "outputs": [],
   "source": [
    "def getRandomSong():\n",
    "    randomOffset =  math.floor(random.randint(1, 11) * 42)\n",
    "    url = 'https://api.spotify.com/v1/search?q=' + getRandomSearch() + '&type=track&limit=1&offset=' + str(randomOffset)\n",
    "    res = req.get(url, headers={'Authorization': authToken})\n",
    "    print(res.json()['tracks']['items'][0]['name'] + \", \" + res.json()['tracks']['items'][0]['artists'][0]['name'])"
   ]
  },
  {
   "cell_type": "code",
   "execution_count": 9,
   "metadata": {},
   "outputs": [
    {
     "name": "stdout",
     "output_type": "stream",
     "text": [
      "Ay Vamos, J Balvin\n",
      "Fuente de Energia, Estopa\n",
      "Sonata for Piano and Violin in E flat, K.481: 3d. Variation 3, Wolfgang Amadeus Mozart\n",
      "Safari, J Balvin\n",
      "Viene y Va, C. Tangana\n",
      "Salió El Sol, Don Omar\n",
      "Tranquila, J Balvin\n",
      "Marzo en febrero (feat. Ana Fernandez), Marlon\n",
      "Steal My Girl, One Direction\n",
      "Pa Los Gustos Los Colores, Javiielo\n",
      "Caminando por la vida, Melendi\n",
      "Alguien Robo, Sebastian Yatra\n",
      "Baila Baila Baila, Ozuna\n",
      "No Quisiste 2020, Yung Beef\n",
      "Levitating (feat. Madonna and Missy Elliott) [The Blessed Madonna Remix] [Mixed], Dua Lipa\n",
      "death bed (coffee for your head), Powfu\n",
      "Limbo, Daddy Yankee\n",
      "Viene y Va, C. Tangana\n",
      "Get Lucky (feat. Pharrell Williams & Nile Rodgers) - Radio Edit, Daft Punk\n"
     ]
    }
   ],
   "source": [
    "for i in range(1,20):\n",
    "    getRandomSong()"
   ]
  },
  {
   "cell_type": "code",
   "execution_count": null,
   "metadata": {},
   "outputs": [],
   "source": []
  }
 ],
 "metadata": {
  "kernelspec": {
   "display_name": "Python 3",
   "language": "python",
   "name": "python3"
  },
  "language_info": {
   "codemirror_mode": {
    "name": "ipython",
    "version": 3
   },
   "file_extension": ".py",
   "mimetype": "text/x-python",
   "name": "python",
   "nbconvert_exporter": "python",
   "pygments_lexer": "ipython3",
   "version": "3.7.2"
  }
 },
 "nbformat": 4,
 "nbformat_minor": 2
}
