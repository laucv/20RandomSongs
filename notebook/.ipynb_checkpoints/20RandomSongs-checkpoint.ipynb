{
 "cells": [
  {
   "cell_type": "code",
   "execution_count": null,
   "metadata": {},
   "outputs": [],
   "source": [
    "import requests as req\n",
    "import random\n",
    "import math\n",
    "import numpy as np"
   ]
  },
  {
   "cell_type": "code",
   "execution_count": null,
   "metadata": {},
   "outputs": [],
   "source": [
    "authToken = '' # Spotify Web API Token Authorization\n",
    "playlistId = '' # Playlist ID to select songs from"
   ]
  },
  {
   "cell_type": "code",
   "execution_count": null,
   "metadata": {},
   "outputs": [],
   "source": [
    "songs=[]\n",
    "total = 100\n",
    "offset = 0\n",
    "while offset < total:\n",
    "    res = req.get('https://api.spotify.com/v1/playlists/' + playlistId+ '/tracks?offset=' + str(offset), headers={'Authorization': authToken})\n",
    "    total = res.json()['total']\n",
    "    offset += 100\n",
    "    playlist = res.json()['items']\n",
    "    for element in playlist:\n",
    "        song = element['track']\n",
    "        if song is not None:\n",
    "            songs.append(song['name'] + \", \" + str([artist['name'] for artist in song['artists']]))"
   ]
  },
  {
   "cell_type": "code",
   "execution_count": null,
   "metadata": {
    "scrolled": true
   },
   "outputs": [],
   "source": [
    "canciones = np.random.choice(songs, 20, False)\n",
    "for cancion in canciones:\n",
    "    print (cancion)"
   ]
  },
  {
   "cell_type": "code",
   "execution_count": null,
   "metadata": {},
   "outputs": [],
   "source": [
    "def getRandomSearch():\n",
    "    characters = \"0123456789abcdefghijklmnopqrstuvwxyz\"\n",
    "    randomCharacter = characters[np.random.randint(len(characters))]\n",
    "    randomSearch = ''\n",
    "    if random.randint(0, 101) % 2 == 0:\n",
    "        randomSearch = randomCharacter + '%25'\n",
    "    else:\n",
    "        randomSearch = '%25' + randomCharacter + '%25'\n",
    "\n",
    "    return randomSearch"
   ]
  },
  {
   "cell_type": "code",
   "execution_count": null,
   "metadata": {},
   "outputs": [],
   "source": [
    "def getRandomSong():\n",
    "    randomOffset =  random.randint(0, 2001)\n",
    "    url = 'https://api.spotify.com/v1/search?q=' + getRandomSearch() + '&type=track&limit=1&offset=' + str(randomOffset)\n",
    "    res = req.get(url, headers={'Authorization': authToken})\n",
    "    cancion = res.json()['tracks']['items'][0]\n",
    "    str([artist['name'] for artist in song['artists']])\n",
    "    print(cancion['name'] + \", \" + str([artist['name'] for artist in cancion['artists']]))"
   ]
  },
  {
   "cell_type": "code",
   "execution_count": null,
   "metadata": {},
   "outputs": [],
   "source": [
    "for i in range(1,20):\n",
    "    getRandomSong()"
   ]
  },
  {
   "cell_type": "code",
   "execution_count": null,
   "metadata": {},
   "outputs": [],
   "source": [
    "body = '''{\n",
    "  \"name\": \"Trasteo\",\n",
    "  \"description\": \"Haciendo que David alucine\",\n",
    "  \"public\": false\n",
    "}'''\n",
    "userId = '' #Spotify User ID\n",
    "res = req.post('https://api.spotify.com/v1/users/' + userId + '/playlists', data = body, headers={'Authorization': authToken})"
   ]
  },
  {
   "cell_type": "code",
   "execution_count": null,
   "metadata": {},
   "outputs": [],
   "source": []
  }
 ],
 "metadata": {
  "kernelspec": {
   "display_name": "Python 3",
   "language": "python",
   "name": "python3"
  },
  "language_info": {
   "codemirror_mode": {
    "name": "ipython",
    "version": 3
   },
   "file_extension": ".py",
   "mimetype": "text/x-python",
   "name": "python",
   "nbconvert_exporter": "python",
   "pygments_lexer": "ipython3",
   "version": "3.7.2"
  }
 },
 "nbformat": 4,
 "nbformat_minor": 2
}
